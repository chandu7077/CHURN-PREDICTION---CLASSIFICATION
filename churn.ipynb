{
 "cells": [
  {
   "cell_type": "markdown",
   "metadata": {},
   "source": [
    "# CHURN PREDICTION "
   ]
  },
  {
   "cell_type": "markdown",
   "metadata": {},
   "source": [
    "#### ABSTRACT:\n",
    "Customer attrition, also known as customer churn, customer turnover, or customer defection, is the loss of clients or customers.\n",
    "\n",
    "Telephone service companies, Internet service providers, pay TV companies, insurance firms, and alarm monitoring services, often use customer attrition analysis and customer attrition rates as one of their key business metrics because the cost of retaining an existing customer is far less than acquiring a new one. Companies from these sectors often have customer service branches which attempt to win back defecting clients, because recovered long-term customers can be worth much more to a company than newly recruited clients.\n",
    "\n",
    "predictive analytics use churn prediction models that predict customer churn by assessing their propensity of risk to churn. Since these models generate a small prioritized list of potential defectors, they are effective at focusing customer retention marketing programs on the subset of the customer base who are most vulnerable to churn.\n",
    "\n",
    "#### DATA DESCRIPTION:\n",
    "The dataset contains totally 21 columns and 5621 rows.\n",
    "\n",
    "The column descriptions are:\n",
    "\n",
    "__customerID__ - ID of the customer\n",
    "\n",
    "__Partner__ -whether the customer has Partner or not.\n",
    "\n",
    "__Dependents__ - whether the customer has Dependents or not.\n",
    "\n",
    "__tenure__ - the customer tenure with the telecom company.\n",
    "\n",
    "__PaymentMethod__ - four different types of payment methods. \n",
    "\n",
    "__Contract__ - three different contracts between customers and company.\n",
    "\n",
    "__TotalCharges,MonthlyCharges__ - The monthly and total charges based on tenure.\n",
    "\n",
    "__MultipleLines,InternetService,\n",
    "       OnlineSecurity,OnlineBackup, <br>\n",
    "       DeviceProtection,TechSupport,PhoneService__ - whether customer has phone service ,internet service , multiple lines in internet service , online security ,device protection and tech support.The labels are yes, no and no internet service.\n",
    "       \n",
    "There are few other features which are clearly understandable.\n",
    "\n",
    "The test data contains 1369 rows and the churn is to be predicted.\n",
    "#### INSIGHTS FROM THE DATA:\n",
    " \n",
    "1.The main important insight drawn from the data is that it is higly imbalanced.\n",
    "\n",
    "2.There are equal number of female and male customers.\n",
    "\n",
    "3.The data says that the 84% of customers are youth and remaining are senior citizens.\n",
    "\n",
    "4.There are equal number of customers who have and doesn't have partnership.\n",
    "\n",
    "5.Arond 95% of customers have phone service.\n",
    " \n",
    "6.Most of the customers took month-to-month contract with the telecom company.\n",
    "\n",
    "7.Most of the Internet Service providers are Fibre Optic.\n",
    "\n",
    "8.Most of the customers used Paperless billing.\n",
    "\n",
    "9.The Payment method for most of the customers is Electronic check and less for credit card transfers.\n",
    "\n",
    "10.The customers without internet service not at all churned."
   ]
  },
  {
   "cell_type": "code",
   "execution_count": 1,
   "metadata": {},
   "outputs": [],
   "source": [
    "import pandas as pd\n",
    "import numpy as np\n",
    "import matplotlib.pyplot as plt\n",
    "%matplotlib inline\n",
    "import seaborn as sns\n",
    "from sklearn.model_selection import train_test_split,cross_val_predict\n",
    "from sklearn.preprocessing import StandardScaler,MinMaxScaler\n",
    "from sklearn.metrics import confusion_matrix,classification_report,f1_score,recall_score,precision_score,accuracy_score,precision_recall_curve,roc_curve,roc_auc_score\n",
    "from sklearn.linear_model import SGDClassifier, LogisticRegression\n",
    "from sklearn.svm import SVC, LinearSVC\n",
    "from sklearn.tree import DecisionTreeClassifier\n",
    "from sklearn.ensemble import RandomForestClassifier, AdaBoostClassifier, VotingClassifier\n",
    "from sklearn.neighbors import KNeighborsClassifier\n",
    "from imblearn.over_sampling import SMOTE\n",
    "from imblearn.combine import SMOTEENN\n",
    "from collections import Counter\n",
    "plt.rcParams['axes.labelsize'] = 14\n",
    "plt.rcParams['xtick.labelsize'] = 12\n",
    "plt.rcParams['ytick.labelsize'] = 12\n",
    "import warnings\n",
    "warnings.filterwarnings('ignore')\n",
    "import random\n",
    "random.seed(0)"
   ]
  },
  {
   "cell_type": "code",
   "execution_count": 2,
   "metadata": {},
   "outputs": [
    {
     "name": "stdout",
     "output_type": "stream",
     "text": [
      "(5674, 21)\n",
      "5674\n"
     ]
    },
    {
     "data": {
      "text/plain": [
       "Index(['customerID', 'gender', 'SeniorCitizen', 'Partner', 'Dependents',\n",
       "       'tenure', 'PhoneService', 'MultipleLines', 'InternetService',\n",
       "       'OnlineSecurity', 'OnlineBackup', 'DeviceProtection', 'TechSupport',\n",
       "       'StreamingTV', 'StreamingMovies', 'Contract', 'PaperlessBilling',\n",
       "       'PaymentMethod', 'MonthlyCharges', 'TotalCharges', 'Churn'],\n",
       "      dtype='object')"
      ]
     },
     "execution_count": 2,
     "metadata": {},
     "output_type": "execute_result"
    }
   ],
   "source": [
    "df=pd.read_csv(\"/root/Documents/DATASETS/churntr.csv\")\n",
    "#df=pd.read_csv(\"churntr.csv\")\n",
    "print(df.shape)\n",
    "print(len(df))\n",
    "df.columns"
   ]
  },
  {
   "cell_type": "code",
   "execution_count": 3,
   "metadata": {},
   "outputs": [
    {
     "data": {
      "text/plain": [
       "No     4184\n",
       "Yes    1490\n",
       "Name: Churn, dtype: int64"
      ]
     },
     "execution_count": 3,
     "metadata": {},
     "output_type": "execute_result"
    },
    {
     "data": {
      "image/png": "[encoded data removed]",
      "text/plain": [
       "<matplotlib.figure.Figure at 0x7f8a60190e80>"
      ]
     },
     "metadata": {
      "needs_background": "light"
     },
     "output_type": "display_data"
    }
   ],
   "source": [
    "c=[ 'royalblue' ,'lime']\n",
    "img=df.Churn.value_counts().plot(kind=\"bar\",color=c)\n",
    "df.Churn.value_counts()"
   ]
  },
  {
   "cell_type": "code",
   "execution_count": 4,
   "metadata": {},
   "outputs": [
    {
     "data": {
      "text/plain": [
       "<matplotlib.axes._subplots.AxesSubplot at 0x7f8a600efb00>"
      ]
     },
     "execution_count": 4,
     "metadata": {},
     "output_type": "execute_result"
    },
    {
     "data": {
      "image/png": "[encoded data removed]",
      "text/plain": [
       "<matplotlib.figure.Figure at 0x7f8a600c0c88>"
      ]
     },
     "metadata": {
      "needs_background": "light"
     },
     "output_type": "display_data"
    }
   ],
   "source": [
    "df.gender.value_counts().plot(kind=\"bar\")"
   ]
  },
  {
   "cell_type": "code",
   "execution_count": 5,
   "metadata": {},
   "outputs": [
    {
     "data": {
      "text/plain": [
       "<matplotlib.axes._subplots.AxesSubplot at 0x7f8a60034e10>"
      ]
     },
     "execution_count": 5,
     "metadata": {},
     "output_type": "execute_result"
    },
    {
     "data": {
      "image/png": "[encoded data removed]",
      "text/plain": [
       "<matplotlib.figure.Figure at 0x7f8a6005e080>"
      ]
     },
     "metadata": {},
     "output_type": "display_data"
    }
   ],
   "source": [
    "df.SeniorCitizen.value_counts().plot(kind=\"pie\",autopct='%.1f%%',labels=[\"no\",\"yes\"])"
   ]
  },
  {
   "cell_type": "code",
   "execution_count": 6,
   "metadata": {},
   "outputs": [
    {
     "data": {
      "text/plain": [
       "<matplotlib.axes._subplots.AxesSubplot at 0x7f8a5ffc34a8>"
      ]
     },
     "execution_count": 6,
     "metadata": {},
     "output_type": "execute_result"
    },
    {
     "data": {
      "image/png": "[encoded data removed]",
      "text/plain": [
       "<matplotlib.figure.Figure at 0x7f8a60058cf8>"
      ]
     },
     "metadata": {
      "needs_background": "light"
     },
     "output_type": "display_data"
    }
   ],
   "source": [
    "df.Partner.value_counts().plot(kind=\"bar\",color=[\"red\",\"green\"])"
   ]
  },
  {
   "cell_type": "code",
   "execution_count": 7,
   "metadata": {},
   "outputs": [
    {
     "data": {
      "text/plain": [
       "<matplotlib.axes._subplots.AxesSubplot at 0x7f8a5ffd66d8>"
      ]
     },
     "execution_count": 7,
     "metadata": {},
     "output_type": "execute_result"
    },
    {
     "data": {
      "image/png": "[encoded data removed]",
      "text/plain": [
       "<matplotlib.figure.Figure at 0x7f8a5ff740f0>"
      ]
     },
     "metadata": {
      "needs_background": "light"
     },
     "output_type": "display_data"
    }
   ],
   "source": [
    "df.Dependents.value_counts().plot(kind=\"bar\")"
   ]
  },
  {
   "cell_type": "code",
   "execution_count": 8,
   "metadata": {},
   "outputs": [
    {
     "data": {
      "text/plain": [
       "<matplotlib.axes._subplots.AxesSubplot at 0x7f8a6003def0>"
      ]
     },
     "execution_count": 8,
     "metadata": {},
     "output_type": "execute_result"
    },
    {
     "data": {
      "image/png": "[encoded data removed]",
      "text/plain": [
       "<matplotlib.figure.Figure at 0x7f8a60190fd0>"
      ]
     },
     "metadata": {
      "needs_background": "light"
     },
     "output_type": "display_data"
    }
   ],
   "source": [
    "df.tenure.hist(bins=20)"
   ]
  },
  {
   "cell_type": "code",
   "execution_count": 9,
   "metadata": {},
   "outputs": [
    {
     "data": {
      "text/plain": [
       "<matplotlib.axes._subplots.AxesSubplot at 0x7f8a5fe946a0>"
      ]
     },
     "execution_count": 9,
     "metadata": {},
     "output_type": "execute_result"
    },
    {
     "data": {
      "image/png": "[encoded data removed]",
      "text/plain": [
       "<matplotlib.figure.Figure at 0x7f8a5fea9a20>"
      ]
     },
     "metadata": {
      "needs_background": "light"
     },
     "output_type": "display_data"
    }
   ],
   "source": [
    "df.PhoneService.value_counts().plot(kind=\"bar\")"
   ]
  },
  {
   "cell_type": "code",
   "execution_count": 10,
   "metadata": {},
   "outputs": [
    {
     "data": {
      "text/plain": [
       "<matplotlib.axes._subplots.AxesSubplot at 0x7f8a5ff3d550>"
      ]
     },
     "execution_count": 10,
     "metadata": {},
     "output_type": "execute_result"
    },
    {
     "data": {
      "image/png": "[encoded data removed]",
      "text/plain": [
       "<matplotlib.figure.Figure at 0x7f8a5fe4bcf8>"
      ]
     },
     "metadata": {
      "needs_background": "light"
     },
     "output_type": "display_data"
    }
   ],
   "source": [
    "df.MultipleLines.value_counts().plot(kind=\"bar\",rot=0.1)"
   ]
  },
  {
   "cell_type": "code",
   "execution_count": 11,
   "metadata": {},
   "outputs": [
    {
     "data": {
      "text/plain": [
       "<matplotlib.axes._subplots.AxesSubplot at 0x7f8a5fe0ed30>"
      ]
     },
     "execution_count": 11,
     "metadata": {},
     "output_type": "execute_result"
    },
    {
     "data": {
      "image/png": "[encoded data removed]",
      "text/plain": [
       "<matplotlib.figure.Figure at 0x7f8a5ff55550>"
      ]
     },
     "metadata": {
      "needs_background": "light"
     },
     "output_type": "display_data"
    }
   ],
   "source": [
    "df.InternetService.value_counts().plot(kind=\"bar\",rot=0.1)"
   ]
  },
  {
   "cell_type": "code",
   "execution_count": 12,
   "metadata": {},
   "outputs": [
    {
     "data": {
      "text/plain": [
       "<matplotlib.axes._subplots.AxesSubplot at 0x7f8a5fd2a0b8>"
      ]
     },
     "execution_count": 12,
     "metadata": {},
     "output_type": "execute_result"
    },
    {
     "data": {
      "image/png": "[encoded data removed]",
      "text/plain": [
       "<matplotlib.figure.Figure at 0x7f8a5fe03160>"
      ]
     },
     "metadata": {
      "needs_background": "light"
     },
     "output_type": "display_data"
    }
   ],
   "source": [
    "df.OnlineSecurity.value_counts().plot(kind=\"bar\",rot=0.1)"
   ]
  },
  {
   "cell_type": "code",
   "execution_count": 13,
   "metadata": {},
   "outputs": [
    {
     "data": {
      "text/plain": [
       "Index(['customerID', 'gender', 'SeniorCitizen', 'Partner', 'Dependents',\n",
       "       'tenure', 'PhoneService', 'MultipleLines', 'InternetService',\n",
       "       'OnlineSecurity', 'OnlineBackup', 'DeviceProtection', 'TechSupport',\n",
       "       'StreamingTV', 'StreamingMovies', 'Contract', 'PaperlessBilling',\n",
       "       'PaymentMethod', 'MonthlyCharges', 'TotalCharges', 'Churn'],\n",
       "      dtype='object')"
      ]
     },
     "execution_count": 13,
     "metadata": {},
     "output_type": "execute_result"
    }
   ],
   "source": [
    "df.columns"
   ]
  },
  {
   "cell_type": "code",
   "execution_count": 14,
   "metadata": {},
   "outputs": [
    {
     "data": {
      "text/plain": [
       "<matplotlib.axes._subplots.AxesSubplot at 0x7f8a5fcac828>"
      ]
     },
     "execution_count": 14,
     "metadata": {},
     "output_type": "execute_result"
    },
    {
     "data": {
      "image/png": "[encoded data removed]",
      "text/plain": [
       "<matplotlib.figure.Figure at 0x7f8a5fcef5f8>"
      ]
     },
     "metadata": {
      "needs_background": "light"
     },
     "output_type": "display_data"
    }
   ],
   "source": [
    "df.OnlineBackup.value_counts().plot(kind=\"bar\",rot=0.1)"
   ]
  },
  {
   "cell_type": "code",
   "execution_count": 15,
   "metadata": {},
   "outputs": [
    {
     "data": {
      "text/plain": [
       "<matplotlib.axes._subplots.AxesSubplot at 0x7f8a5fc89860>"
      ]
     },
     "execution_count": 15,
     "metadata": {},
     "output_type": "execute_result"
    },
    {
     "data": {
      "image/png": "[encoded data removed]",
      "text/plain": [
       "<matplotlib.figure.Figure at 0x7f8a5fcf74a8>"
      ]
     },
     "metadata": {
      "needs_background": "light"
     },
     "output_type": "display_data"
    }
   ],
   "source": [
    "df.DeviceProtection.value_counts().plot(kind=\"bar\",rot=0)"
   ]
  },
  {
   "cell_type": "code",
   "execution_count": 16,
   "metadata": {},
   "outputs": [
    {
     "data": {
      "text/plain": [
       "<matplotlib.axes._subplots.AxesSubplot at 0x7f8a5fcef710>"
      ]
     },
     "execution_count": 16,
     "metadata": {},
     "output_type": "execute_result"
    },
    {
     "data": {
      "image/png": "[encoded data removed]",
      "text/plain": [
       "<matplotlib.figure.Figure at 0x7f8a5fcc1f28>"
      ]
     },
     "metadata": {
      "needs_background": "light"
     },
     "output_type": "display_data"
    }
   ],
   "source": [
    "df.TechSupport.value_counts().plot(kind=\"bar\",rot=0)"
   ]
  },
  {
   "cell_type": "code",
   "execution_count": 17,
   "metadata": {},
   "outputs": [
    {
     "data": {
      "text/plain": [
       "<matplotlib.axes._subplots.AxesSubplot at 0x7f8a5fe4b080>"
      ]
     },
     "execution_count": 17,
     "metadata": {},
     "output_type": "execute_result"
    },
    {
     "data": {
      "image/png": "[encoded data removed]",
      "text/plain": [
       "<matplotlib.figure.Figure at 0x7f8a5fcc1278>"
      ]
     },
     "metadata": {
      "needs_background": "light"
     },
     "output_type": "display_data"
    }
   ],
   "source": [
    "df.StreamingMovies.value_counts().plot(kind=\"bar\",rot=0)"
   ]
  },
  {
   "cell_type": "code",
   "execution_count": 18,
   "metadata": {},
   "outputs": [
    {
     "data": {
      "text/plain": [
       "<matplotlib.axes._subplots.AxesSubplot at 0x7f8a5fb614e0>"
      ]
     },
     "execution_count": 18,
     "metadata": {},
     "output_type": "execute_result"
    },
    {
     "data": {
      "image/png": "[encoded data removed]",
      "text/plain": [
       "<matplotlib.figure.Figure at 0x7f8a5ff55588>"
      ]
     },
     "metadata": {
      "needs_background": "light"
     },
     "output_type": "display_data"
    }
   ],
   "source": [
    "df.StreamingTV.value_counts().plot(kind=\"bar\",rot=0)"
   ]
  },
  {
   "cell_type": "code",
   "execution_count": 19,
   "metadata": {},
   "outputs": [
    {
     "data": {
      "text/plain": [
       "<matplotlib.axes._subplots.AxesSubplot at 0x7f8a5fadec18>"
      ]
     },
     "execution_count": 19,
     "metadata": {},
     "output_type": "execute_result"
    },
    {
     "data": {
      "image/png": "[encoded data removed]",
      "text/plain": [
       "<matplotlib.figure.Figure at 0x7f8a5fe7f588>"
      ]
     },
     "metadata": {
      "needs_background": "light"
     },
     "output_type": "display_data"
    }
   ],
   "source": [
    "df.Contract.value_counts().plot(kind=\"bar\",rot=0)"
   ]
  },
  {
   "cell_type": "code",
   "execution_count": 20,
   "metadata": {},
   "outputs": [
    {
     "data": {
      "text/plain": [
       "<matplotlib.axes._subplots.AxesSubplot at 0x7f8a5fd576a0>"
      ]
     },
     "execution_count": 20,
     "metadata": {},
     "output_type": "execute_result"
    },
    {
     "data": {
      "image/png": "[encoded data removed]",
      "text/plain": [
       "<matplotlib.figure.Figure at 0x7f8a5fac9668>"
      ]
     },
     "metadata": {
      "needs_background": "light"
     },
     "output_type": "display_data"
    }
   ],
   "source": [
    "df.PaperlessBilling.value_counts().plot(kind=\"bar\")"
   ]
  },
  {
   "cell_type": "code",
   "execution_count": 21,
   "metadata": {},
   "outputs": [
    {
     "data": {
      "text/plain": [
       "<matplotlib.axes._subplots.AxesSubplot at 0x7f8a5fac2320>"
      ]
     },
     "execution_count": 21,
     "metadata": {},
     "output_type": "execute_result"
    },
    {
     "data": {
      "image/png": "[encoded data removed]",
      "text/plain": [
       "<matplotlib.figure.Figure at 0x7f8a5fb23588>"
      ]
     },
     "metadata": {
      "needs_background": "light"
     },
     "output_type": "display_data"
    }
   ],
   "source": [
    "df.MonthlyCharges.hist(bins=20)"
   ]
  },
  {
   "cell_type": "code",
   "execution_count": 22,
   "metadata": {},
   "outputs": [
    {
     "data": {
      "text/plain": [
       "<matplotlib.axes._subplots.AxesSubplot at 0x7f8a5f99beb8>"
      ]
     },
     "execution_count": 22,
     "metadata": {},
     "output_type": "execute_result"
    },
    {
     "data": {
      "image/png": "[encoded data removed]",
      "text/plain": [
       "<matplotlib.figure.Figure at 0x7f8a5fa3c7b8>"
      ]
     },
     "metadata": {
      "needs_background": "light"
     },
     "output_type": "display_data"
    }
   ],
   "source": [
    "df.PaymentMethod.value_counts().plot(kind=\"bar\",rot=20)"
   ]
  },
  {
   "cell_type": "code",
   "execution_count": 23,
   "metadata": {},
   "outputs": [
    {
     "data": {
      "text/plain": [
       "<matplotlib.axes._subplots.AxesSubplot at 0x7f8a5f923d30>"
      ]
     },
     "execution_count": 23,
     "metadata": {},
     "output_type": "execute_result"
    },
    {
     "data": {
      "image/png": "[encoded data removed]",
      "text/plain": [
       "<matplotlib.figure.Figure at 0x7f8a5f972c50>"
      ]
     },
     "metadata": {
      "needs_background": "light"
     },
     "output_type": "display_data"
    }
   ],
   "source": [
    "pd.crosstab(df.gender,df.Churn).plot(kind=\"bar\")"
   ]
  },
  {
   "cell_type": "code",
   "execution_count": 24,
   "metadata": {
    "scrolled": true
   },
   "outputs": [
    {
     "data": {
      "text/plain": [
       "<matplotlib.axes._subplots.AxesSubplot at 0x7f8a5f8f1d30>"
      ]
     },
     "execution_count": 24,
     "metadata": {},
     "output_type": "execute_result"
    },
    {
     "data": {
      "image/png": "[encoded data removed]",
      "text/plain": [
       "<matplotlib.figure.Figure at 0x7f8a5f8b04e0>"
      ]
     },
     "metadata": {
      "needs_background": "light"
     },
     "output_type": "display_data"
    }
   ],
   "source": [
    "pd.crosstab(df.SeniorCitizen,df.Churn).plot(kind=\"bar\")"
   ]
  },
  {
   "cell_type": "code",
   "execution_count": 25,
   "metadata": {},
   "outputs": [
    {
     "data": {
      "text/plain": [
       "<matplotlib.axes._subplots.AxesSubplot at 0x7f8a5f81cdd8>"
      ]
     },
     "execution_count": 25,
     "metadata": {},
     "output_type": "execute_result"
    },
    {
     "data": {
      "image/png": "[encoded data removed]",
      "text/plain": [
       "<matplotlib.figure.Figure at 0x7f8a5f8c19b0>"
      ]
     },
     "metadata": {
      "needs_background": "light"
     },
     "output_type": "display_data"
    }
   ],
   "source": [
    "pd.crosstab(df.Partner,df.Churn).plot(kind=\"bar\")"
   ]
  },
  {
   "cell_type": "code",
   "execution_count": 26,
   "metadata": {},
   "outputs": [
    {
     "data": {
      "text/plain": [
       "<matplotlib.axes._subplots.AxesSubplot at 0x7f8a5f8118d0>"
      ]
     },
     "execution_count": 26,
     "metadata": {},
     "output_type": "execute_result"
    },
    {
     "data": {
      "image/png": "[encoded data removed]",
      "text/plain": [
       "<matplotlib.figure.Figure at 0x7f8a5f7dc7b8>"
      ]
     },
     "metadata": {
      "needs_background": "light"
     },
     "output_type": "display_data"
    }
   ],
   "source": [
    "pd.crosstab(df.Dependents,df.Churn).plot(kind=\"bar\")"
   ]
  },
  {
   "cell_type": "code",
   "execution_count": 27,
   "metadata": {},
   "outputs": [
    {
     "data": {
      "text/plain": [
       "<matplotlib.axes._subplots.AxesSubplot at 0x7f8a5f7d36d8>"
      ]
     },
     "execution_count": 27,
     "metadata": {},
     "output_type": "execute_result"
    },
    {
     "data": {
      "image/png": "[encoded data removed]",
      "text/plain": [
       "<matplotlib.figure.Figure at 0x7f8a5f7b9d68>"
      ]
     },
     "metadata": {
      "needs_background": "light"
     },
     "output_type": "display_data"
    }
   ],
   "source": [
    "pd.crosstab(df.DeviceProtection,df.Churn).plot(kind=\"bar\",rot=0)"
   ]
  },
  {
   "cell_type": "code",
   "execution_count": 28,
   "metadata": {},
   "outputs": [],
   "source": [
    "def encchurn(dff):\n",
    "    dff.loc[dff.Churn==\"Yes\",\"Churn\"]=1\n",
    "    dff.loc[dff.Churn==\"No\",\"Churn\"]=0\n",
    "    return dff\n",
    "df=encchurn(df)"
   ]
  },
  {
   "cell_type": "code",
   "execution_count": 29,
   "metadata": {},
   "outputs": [
    {
     "data": {
      "text/plain": [
       "array([[ 1.        , -0.35032048],\n",
       "       [-0.35032048,  1.        ]])"
      ]
     },
     "execution_count": 29,
     "metadata": {},
     "output_type": "execute_result"
    }
   ],
   "source": [
    "np.corrcoef(df.Churn,df.tenure)"
   ]
  },
  {
   "cell_type": "code",
   "execution_count": 30,
   "metadata": {},
   "outputs": [
    {
     "data": {
      "text/plain": [
       "<matplotlib.collections.PathCollection at 0x7f8a5f6c4fd0>"
      ]
     },
     "execution_count": 30,
     "metadata": {},
     "output_type": "execute_result"
    },
    {
     "data": {
      "image/png": "[encoded data removed]",
      "text/plain": [
       "<matplotlib.figure.Figure at 0x7f8a5f72ab70>"
      ]
     },
     "metadata": {
      "needs_background": "light"
     },
     "output_type": "display_data"
    }
   ],
   "source": [
    "plt.scatter(df.tenure,df.MonthlyCharges)"
   ]
  },
  {
   "cell_type": "code",
   "execution_count": 31,
   "metadata": {},
   "outputs": [
    {
     "data": {
      "text/plain": [
       "<matplotlib.axes._subplots.AxesSubplot at 0x7f8a5f70fa90>"
      ]
     },
     "execution_count": 31,
     "metadata": {},
     "output_type": "execute_result"
    },
    {
     "data": {
      "image/png": "[encoded data removed]",
      "text/plain": [
       "<matplotlib.figure.Figure at 0x7f8a5f8627b8>"
      ]
     },
     "metadata": {
      "needs_background": "light"
     },
     "output_type": "display_data"
    }
   ],
   "source": [
    "pd.crosstab(df.PhoneService,df.Churn).plot(kind=\"bar\")"
   ]
  },
  {
   "cell_type": "code",
   "execution_count": 32,
   "metadata": {},
   "outputs": [
    {
     "data": {
      "text/html": [
       "<div>\n",
       "<style scoped>\n",
       "    .dataframe tbody tr th:only-of-type {\n",
       "        vertical-align: middle;\n",
       "    }\n",
       "\n",
       "    .dataframe tbody tr th {\n",
       "        vertical-align: top;\n",
       "    }\n",
       "\n",
       "    .dataframe thead th {\n",
       "        text-align: right;\n",
       "    }\n",
       "</style>\n",
       "<table border=\"1\" class=\"dataframe\">\n",
       "  <thead>\n",
       "    <tr style=\"text-align: right;\">\n",
       "      <th></th>\n",
       "      <th>SeniorCitizen</th>\n",
       "      <th>tenure</th>\n",
       "      <th>MonthlyCharges</th>\n",
       "      <th>Churn</th>\n",
       "    </tr>\n",
       "  </thead>\n",
       "  <tbody>\n",
       "    <tr>\n",
       "      <th>SeniorCitizen</th>\n",
       "      <td>1.000000</td>\n",
       "      <td>0.022334</td>\n",
       "      <td>0.223584</td>\n",
       "      <td>0.149728</td>\n",
       "    </tr>\n",
       "    <tr>\n",
       "      <th>tenure</th>\n",
       "      <td>0.022334</td>\n",
       "      <td>1.000000</td>\n",
       "      <td>0.253934</td>\n",
       "      <td>-0.350320</td>\n",
       "    </tr>\n",
       "    <tr>\n",
       "      <th>MonthlyCharges</th>\n",
       "      <td>0.223584</td>\n",
       "      <td>0.253934</td>\n",
       "      <td>1.000000</td>\n",
       "      <td>0.191444</td>\n",
       "    </tr>\n",
       "    <tr>\n",
       "      <th>Churn</th>\n",
       "      <td>0.149728</td>\n",
       "      <td>-0.350320</td>\n",
       "      <td>0.191444</td>\n",
       "      <td>1.000000</td>\n",
       "    </tr>\n",
       "  </tbody>\n",
       "</table>\n",
       "</div>"
      ],
      "text/plain": [
       "                SeniorCitizen    tenure  MonthlyCharges     Churn\n",
       "SeniorCitizen        1.000000  0.022334        0.223584  0.149728\n",
       "tenure               0.022334  1.000000        0.253934 -0.350320\n",
       "MonthlyCharges       0.223584  0.253934        1.000000  0.191444\n",
       "Churn                0.149728 -0.350320        0.191444  1.000000"
      ]
     },
     "execution_count": 32,
     "metadata": {},
     "output_type": "execute_result"
    }
   ],
   "source": [
    "df.corr()"
   ]
  },
  {
   "cell_type": "code",
   "execution_count": 33,
   "metadata": {},
   "outputs": [
    {
     "data": {
      "text/html": [
       "<div>\n",
       "<style scoped>\n",
       "    .dataframe tbody tr th:only-of-type {\n",
       "        vertical-align: middle;\n",
       "    }\n",
       "\n",
       "    .dataframe tbody tr th {\n",
       "        vertical-align: top;\n",
       "    }\n",
       "\n",
       "    .dataframe thead th {\n",
       "        text-align: right;\n",
       "    }\n",
       "</style>\n",
       "<table border=\"1\" class=\"dataframe\">\n",
       "  <thead>\n",
       "    <tr style=\"text-align: right;\">\n",
       "      <th></th>\n",
       "      <th>gender</th>\n",
       "      <th>SeniorCitizen</th>\n",
       "      <th>Dependents</th>\n",
       "      <th>tenure</th>\n",
       "      <th>InternetService</th>\n",
       "      <th>OnlineSecurity</th>\n",
       "      <th>OnlineBackup</th>\n",
       "      <th>DeviceProtection</th>\n",
       "      <th>TechSupport</th>\n",
       "      <th>StreamingTV</th>\n",
       "      <th>StreamingMovies</th>\n",
       "      <th>Contract</th>\n",
       "      <th>PaperlessBilling</th>\n",
       "      <th>PaymentMethod</th>\n",
       "      <th>MonthlyCharges</th>\n",
       "      <th>TotalCharges</th>\n",
       "      <th>Churn</th>\n",
       "    </tr>\n",
       "  </thead>\n",
       "  <tbody>\n",
       "    <tr>\n",
       "      <th>gender</th>\n",
       "      <td>1.000000</td>\n",
       "      <td>-0.002261</td>\n",
       "      <td>0.016641</td>\n",
       "      <td>0.013817</td>\n",
       "      <td>-0.002468</td>\n",
       "      <td>-0.003325</td>\n",
       "      <td>-0.007291</td>\n",
       "      <td>-0.001048</td>\n",
       "      <td>0.005549</td>\n",
       "      <td>-0.008518</td>\n",
       "      <td>-0.016505</td>\n",
       "      <td>0.008779</td>\n",
       "      <td>-0.013173</td>\n",
       "      <td>0.009982</td>\n",
       "      <td>-0.014999</td>\n",
       "      <td>0.004267</td>\n",
       "      <td>-0.010777</td>\n",
       "    </tr>\n",
       "    <tr>\n",
       "      <th>SeniorCitizen</th>\n",
       "      <td>-0.002261</td>\n",
       "      <td>1.000000</td>\n",
       "      <td>-0.210709</td>\n",
       "      <td>0.022334</td>\n",
       "      <td>-0.026430</td>\n",
       "      <td>-0.129367</td>\n",
       "      <td>-0.017984</td>\n",
       "      <td>-0.023243</td>\n",
       "      <td>-0.155146</td>\n",
       "      <td>0.024541</td>\n",
       "      <td>0.051567</td>\n",
       "      <td>-0.134899</td>\n",
       "      <td>0.154685</td>\n",
       "      <td>-0.044177</td>\n",
       "      <td>0.223584</td>\n",
       "      <td>0.106646</td>\n",
       "      <td>0.149728</td>\n",
       "    </tr>\n",
       "    <tr>\n",
       "      <th>Dependents</th>\n",
       "      <td>0.016641</td>\n",
       "      <td>-0.210709</td>\n",
       "      <td>1.000000</td>\n",
       "      <td>0.159667</td>\n",
       "      <td>0.043680</td>\n",
       "      <td>0.155960</td>\n",
       "      <td>0.098787</td>\n",
       "      <td>0.082178</td>\n",
       "      <td>0.135517</td>\n",
       "      <td>0.048366</td>\n",
       "      <td>0.015290</td>\n",
       "      <td>0.248147</td>\n",
       "      <td>-0.110918</td>\n",
       "      <td>-0.043572</td>\n",
       "      <td>-0.118175</td>\n",
       "      <td>0.062275</td>\n",
       "      <td>-0.168299</td>\n",
       "    </tr>\n",
       "    <tr>\n",
       "      <th>tenure</th>\n",
       "      <td>0.013817</td>\n",
       "      <td>0.022334</td>\n",
       "      <td>0.159667</td>\n",
       "      <td>1.000000</td>\n",
       "      <td>-0.037247</td>\n",
       "      <td>0.325911</td>\n",
       "      <td>0.367085</td>\n",
       "      <td>0.367325</td>\n",
       "      <td>0.315012</td>\n",
       "      <td>0.287119</td>\n",
       "      <td>0.302417</td>\n",
       "      <td>0.673140</td>\n",
       "      <td>0.005621</td>\n",
       "      <td>-0.379924</td>\n",
       "      <td>0.253934</td>\n",
       "      <td>0.824986</td>\n",
       "      <td>-0.350320</td>\n",
       "    </tr>\n",
       "    <tr>\n",
       "      <th>InternetService</th>\n",
       "      <td>-0.002468</td>\n",
       "      <td>-0.026430</td>\n",
       "      <td>0.043680</td>\n",
       "      <td>-0.037247</td>\n",
       "      <td>1.000000</td>\n",
       "      <td>-0.017225</td>\n",
       "      <td>0.043084</td>\n",
       "      <td>0.039945</td>\n",
       "      <td>-0.026390</td>\n",
       "      <td>0.100067</td>\n",
       "      <td>0.096288</td>\n",
       "      <td>0.097099</td>\n",
       "      <td>-0.153257</td>\n",
       "      <td>0.091763</td>\n",
       "      <td>-0.331176</td>\n",
       "      <td>-0.181018</td>\n",
       "      <td>-0.048816</td>\n",
       "    </tr>\n",
       "    <tr>\n",
       "      <th>OnlineSecurity</th>\n",
       "      <td>-0.003325</td>\n",
       "      <td>-0.129367</td>\n",
       "      <td>0.155960</td>\n",
       "      <td>0.325911</td>\n",
       "      <td>-0.017225</td>\n",
       "      <td>1.000000</td>\n",
       "      <td>0.187257</td>\n",
       "      <td>0.173633</td>\n",
       "      <td>0.276822</td>\n",
       "      <td>0.038948</td>\n",
       "      <td>0.051973</td>\n",
       "      <td>0.375627</td>\n",
       "      <td>-0.161623</td>\n",
       "      <td>-0.109068</td>\n",
       "      <td>-0.046513</td>\n",
       "      <td>0.260187</td>\n",
       "      <td>-0.289527</td>\n",
       "    </tr>\n",
       "    <tr>\n",
       "      <th>OnlineBackup</th>\n",
       "      <td>-0.007291</td>\n",
       "      <td>-0.017984</td>\n",
       "      <td>0.098787</td>\n",
       "      <td>0.367085</td>\n",
       "      <td>0.043084</td>\n",
       "      <td>0.187257</td>\n",
       "      <td>1.000000</td>\n",
       "      <td>0.186087</td>\n",
       "      <td>0.190768</td>\n",
       "      <td>0.157969</td>\n",
       "      <td>0.150690</td>\n",
       "      <td>0.279174</td>\n",
       "      <td>-0.017316</td>\n",
       "      <td>-0.130003</td>\n",
       "      <td>0.127251</td>\n",
       "      <td>0.372687</td>\n",
       "      <td>-0.190995</td>\n",
       "    </tr>\n",
       "    <tr>\n",
       "      <th>DeviceProtection</th>\n",
       "      <td>-0.001048</td>\n",
       "      <td>-0.023243</td>\n",
       "      <td>0.082178</td>\n",
       "      <td>0.367325</td>\n",
       "      <td>0.039945</td>\n",
       "      <td>0.173633</td>\n",
       "      <td>0.186087</td>\n",
       "      <td>1.000000</td>\n",
       "      <td>0.234778</td>\n",
       "      <td>0.280475</td>\n",
       "      <td>0.295012</td>\n",
       "      <td>0.345796</td>\n",
       "      <td>-0.044520</td>\n",
       "      <td>-0.145542</td>\n",
       "      <td>0.171689</td>\n",
       "      <td>0.389993</td>\n",
       "      <td>-0.173823</td>\n",
       "    </tr>\n",
       "    <tr>\n",
       "      <th>TechSupport</th>\n",
       "      <td>0.005549</td>\n",
       "      <td>-0.155146</td>\n",
       "      <td>0.135517</td>\n",
       "      <td>0.315012</td>\n",
       "      <td>-0.026390</td>\n",
       "      <td>0.276822</td>\n",
       "      <td>0.190768</td>\n",
       "      <td>0.234778</td>\n",
       "      <td>1.000000</td>\n",
       "      <td>0.154893</td>\n",
       "      <td>0.150254</td>\n",
       "      <td>0.417904</td>\n",
       "      <td>-0.115847</td>\n",
       "      <td>-0.104622</td>\n",
       "      <td>-0.009310</td>\n",
       "      <td>0.271952</td>\n",
       "      <td>-0.276051</td>\n",
       "    </tr>\n",
       "    <tr>\n",
       "      <th>StreamingTV</th>\n",
       "      <td>-0.008518</td>\n",
       "      <td>0.024541</td>\n",
       "      <td>0.048366</td>\n",
       "      <td>0.287119</td>\n",
       "      <td>0.100067</td>\n",
       "      <td>0.038948</td>\n",
       "      <td>0.157969</td>\n",
       "      <td>0.280475</td>\n",
       "      <td>0.154893</td>\n",
       "      <td>1.000000</td>\n",
       "      <td>0.425453</td>\n",
       "      <td>0.222862</td>\n",
       "      <td>0.094712</td>\n",
       "      <td>-0.104008</td>\n",
       "      <td>0.335929</td>\n",
       "      <td>0.390019</td>\n",
       "      <td>-0.034443</td>\n",
       "    </tr>\n",
       "    <tr>\n",
       "      <th>StreamingMovies</th>\n",
       "      <td>-0.016505</td>\n",
       "      <td>0.051567</td>\n",
       "      <td>0.015290</td>\n",
       "      <td>0.302417</td>\n",
       "      <td>0.096288</td>\n",
       "      <td>0.051973</td>\n",
       "      <td>0.150690</td>\n",
       "      <td>0.295012</td>\n",
       "      <td>0.150254</td>\n",
       "      <td>0.425453</td>\n",
       "      <td>1.000000</td>\n",
       "      <td>0.235272</td>\n",
       "      <td>0.070324</td>\n",
       "      <td>-0.116368</td>\n",
       "      <td>0.334249</td>\n",
       "      <td>0.402367</td>\n",
       "      <td>-0.038073</td>\n",
       "    </tr>\n",
       "    <tr>\n",
       "      <th>Contract</th>\n",
       "      <td>0.008779</td>\n",
       "      <td>-0.134899</td>\n",
       "      <td>0.248147</td>\n",
       "      <td>0.673140</td>\n",
       "      <td>0.097099</td>\n",
       "      <td>0.375627</td>\n",
       "      <td>0.279174</td>\n",
       "      <td>0.345796</td>\n",
       "      <td>0.417904</td>\n",
       "      <td>0.222862</td>\n",
       "      <td>0.235272</td>\n",
       "      <td>1.000000</td>\n",
       "      <td>-0.175283</td>\n",
       "      <td>-0.234844</td>\n",
       "      <td>-0.067921</td>\n",
       "      <td>0.452464</td>\n",
       "      <td>-0.395152</td>\n",
       "    </tr>\n",
       "    <tr>\n",
       "      <th>PaperlessBilling</th>\n",
       "      <td>-0.013173</td>\n",
       "      <td>0.154685</td>\n",
       "      <td>-0.110918</td>\n",
       "      <td>0.005621</td>\n",
       "      <td>-0.153257</td>\n",
       "      <td>-0.161623</td>\n",
       "      <td>-0.017316</td>\n",
       "      <td>-0.044520</td>\n",
       "      <td>-0.115847</td>\n",
       "      <td>0.094712</td>\n",
       "      <td>0.070324</td>\n",
       "      <td>-0.175283</td>\n",
       "      <td>1.000000</td>\n",
       "      <td>-0.061850</td>\n",
       "      <td>0.354776</td>\n",
       "      <td>0.157089</td>\n",
       "      <td>0.198190</td>\n",
       "    </tr>\n",
       "    <tr>\n",
       "      <th>PaymentMethod</th>\n",
       "      <td>0.009982</td>\n",
       "      <td>-0.044177</td>\n",
       "      <td>-0.043572</td>\n",
       "      <td>-0.379924</td>\n",
       "      <td>0.091763</td>\n",
       "      <td>-0.109068</td>\n",
       "      <td>-0.130003</td>\n",
       "      <td>-0.145542</td>\n",
       "      <td>-0.104622</td>\n",
       "      <td>-0.104008</td>\n",
       "      <td>-0.116368</td>\n",
       "      <td>-0.234844</td>\n",
       "      <td>-0.061850</td>\n",
       "      <td>1.000000</td>\n",
       "      <td>-0.196938</td>\n",
       "      <td>-0.338266</td>\n",
       "      <td>0.111066</td>\n",
       "    </tr>\n",
       "    <tr>\n",
       "      <th>MonthlyCharges</th>\n",
       "      <td>-0.014999</td>\n",
       "      <td>0.223584</td>\n",
       "      <td>-0.118175</td>\n",
       "      <td>0.253934</td>\n",
       "      <td>-0.331176</td>\n",
       "      <td>-0.046513</td>\n",
       "      <td>0.127251</td>\n",
       "      <td>0.171689</td>\n",
       "      <td>-0.009310</td>\n",
       "      <td>0.335929</td>\n",
       "      <td>0.334249</td>\n",
       "      <td>-0.067921</td>\n",
       "      <td>0.354776</td>\n",
       "      <td>-0.196938</td>\n",
       "      <td>1.000000</td>\n",
       "      <td>0.653813</td>\n",
       "      <td>0.191444</td>\n",
       "    </tr>\n",
       "    <tr>\n",
       "      <th>TotalCharges</th>\n",
       "      <td>0.004267</td>\n",
       "      <td>0.106646</td>\n",
       "      <td>0.062275</td>\n",
       "      <td>0.824986</td>\n",
       "      <td>-0.181018</td>\n",
       "      <td>0.260187</td>\n",
       "      <td>0.372687</td>\n",
       "      <td>0.389993</td>\n",
       "      <td>0.271952</td>\n",
       "      <td>0.390019</td>\n",
       "      <td>0.402367</td>\n",
       "      <td>0.452464</td>\n",
       "      <td>0.157089</td>\n",
       "      <td>-0.338266</td>\n",
       "      <td>0.653813</td>\n",
       "      <td>1.000000</td>\n",
       "      <td>-0.198408</td>\n",
       "    </tr>\n",
       "    <tr>\n",
       "      <th>Churn</th>\n",
       "      <td>-0.010777</td>\n",
       "      <td>0.149728</td>\n",
       "      <td>-0.168299</td>\n",
       "      <td>-0.350320</td>\n",
       "      <td>-0.048816</td>\n",
       "      <td>-0.289527</td>\n",
       "      <td>-0.190995</td>\n",
       "      <td>-0.173823</td>\n",
       "      <td>-0.276051</td>\n",
       "      <td>-0.034443</td>\n",
       "      <td>-0.038073</td>\n",
       "      <td>-0.395152</td>\n",
       "      <td>0.198190</td>\n",
       "      <td>0.111066</td>\n",
       "      <td>0.191444</td>\n",
       "      <td>-0.198408</td>\n",
       "      <td>1.000000</td>\n",
       "    </tr>\n",
       "  </tbody>\n",
       "</table>\n",
       "</div>"
      ],
      "text/plain": [
       "                    gender  SeniorCitizen  Dependents    tenure  \\\n",
       "gender            1.000000      -0.002261    0.016641  0.013817   \n",
       "SeniorCitizen    -0.002261       1.000000   -0.210709  0.022334   \n",
       "Dependents        0.016641      -0.210709    1.000000  0.159667   \n",
       "tenure            0.013817       0.022334    0.159667  1.000000   \n",
       "InternetService  -0.002468      -0.026430    0.043680 -0.037247   \n",
       "OnlineSecurity   -0.003325      -0.129367    0.155960  0.325911   \n",
       "OnlineBackup     -0.007291      -0.017984    0.098787  0.367085   \n",
       "DeviceProtection -0.001048      -0.023243    0.082178  0.367325   \n",
       "TechSupport       0.005549      -0.155146    0.135517  0.315012   \n",
       "StreamingTV      -0.008518       0.024541    0.048366  0.287119   \n",
       "StreamingMovies  -0.016505       0.051567    0.015290  0.302417   \n",
       "Contract          0.008779      -0.134899    0.248147  0.673140   \n",
       "PaperlessBilling -0.013173       0.154685   -0.110918  0.005621   \n",
       "PaymentMethod     0.009982      -0.044177   -0.043572 -0.379924   \n",
       "MonthlyCharges   -0.014999       0.223584   -0.118175  0.253934   \n",
       "TotalCharges      0.004267       0.106646    0.062275  0.824986   \n",
       "Churn            -0.010777       0.149728   -0.168299 -0.350320   \n",
       "\n",
       "                  InternetService  OnlineSecurity  OnlineBackup  \\\n",
       "gender                  -0.002468       -0.003325     -0.007291   \n",
       "SeniorCitizen           -0.026430       -0.129367     -0.017984   \n",
       "Dependents               0.043680        0.155960      0.098787   \n",
       "tenure                  -0.037247        0.325911      0.367085   \n",
       "InternetService          1.000000       -0.017225      0.043084   \n",
       "OnlineSecurity          -0.017225        1.000000      0.187257   \n",
       "OnlineBackup             0.043084        0.187257      1.000000   \n",
       "DeviceProtection         0.039945        0.173633      0.186087   \n",
       "TechSupport             -0.026390        0.276822      0.190768   \n",
       "StreamingTV              0.100067        0.038948      0.157969   \n",
       "StreamingMovies          0.096288        0.051973      0.150690   \n",
       "Contract                 0.097099        0.375627      0.279174   \n",
       "PaperlessBilling        -0.153257       -0.161623     -0.017316   \n",
       "PaymentMethod            0.091763       -0.109068     -0.130003   \n",
       "MonthlyCharges          -0.331176       -0.046513      0.127251   \n",
       "TotalCharges            -0.181018        0.260187      0.372687   \n",
       "Churn                   -0.048816       -0.289527     -0.190995   \n",
       "\n",
       "                  DeviceProtection  TechSupport  StreamingTV  StreamingMovies  \\\n",
       "gender                   -0.001048     0.005549    -0.008518        -0.016505   \n",
       "SeniorCitizen            -0.023243    -0.155146     0.024541         0.051567   \n",
       "Dependents                0.082178     0.135517     0.048366         0.015290   \n",
       "tenure                    0.367325     0.315012     0.287119         0.302417   \n",
       "InternetService           0.039945    -0.026390     0.100067         0.096288   \n",
       "OnlineSecurity            0.173633     0.276822     0.038948         0.051973   \n",
       "OnlineBackup              0.186087     0.190768     0.157969         0.150690   \n",
       "DeviceProtection          1.000000     0.234778     0.280475         0.295012   \n",
       "TechSupport               0.234778     1.000000     0.154893         0.150254   \n",
       "StreamingTV               0.280475     0.154893     1.000000         0.425453   \n",
       "StreamingMovies           0.295012     0.150254     0.425453         1.000000   \n",
       "Contract                  0.345796     0.417904     0.222862         0.235272   \n",
       "PaperlessBilling         -0.044520    -0.115847     0.094712         0.070324   \n",
       "PaymentMethod            -0.145542    -0.104622    -0.104008        -0.116368   \n",
       "MonthlyCharges            0.171689    -0.009310     0.335929         0.334249   \n",
       "TotalCharges              0.389993     0.271952     0.390019         0.402367   \n",
       "Churn                    -0.173823    -0.276051    -0.034443        -0.038073   \n",
       "\n",
       "                  Contract  PaperlessBilling  PaymentMethod  MonthlyCharges  \\\n",
       "gender            0.008779         -0.013173       0.009982       -0.014999   \n",
       "SeniorCitizen    -0.134899          0.154685      -0.044177        0.223584   \n",
       "Dependents        0.248147         -0.110918      -0.043572       -0.118175   \n",
       "tenure            0.673140          0.005621      -0.379924        0.253934   \n",
       "InternetService   0.097099         -0.153257       0.091763       -0.331176   \n",
       "OnlineSecurity    0.375627         -0.161623      -0.109068       -0.046513   \n",
       "OnlineBackup      0.279174         -0.017316      -0.130003        0.127251   \n",
       "DeviceProtection  0.345796         -0.044520      -0.145542        0.171689   \n",
       "TechSupport       0.417904         -0.115847      -0.104622       -0.009310   \n",
       "StreamingTV       0.222862          0.094712      -0.104008        0.335929   \n",
       "StreamingMovies   0.235272          0.070324      -0.116368        0.334249   \n",
       "Contract          1.000000         -0.175283      -0.234844       -0.067921   \n",
       "PaperlessBilling -0.175283          1.000000      -0.061850        0.354776   \n",
       "PaymentMethod    -0.234844         -0.061850       1.000000       -0.196938   \n",
       "MonthlyCharges   -0.067921          0.354776      -0.196938        1.000000   \n",
       "TotalCharges      0.452464          0.157089      -0.338266        0.653813   \n",
       "Churn            -0.395152          0.198190       0.111066        0.191444   \n",
       "\n",
       "                  TotalCharges     Churn  \n",
       "gender                0.004267 -0.010777  \n",
       "SeniorCitizen         0.106646  0.149728  \n",
       "Dependents            0.062275 -0.168299  \n",
       "tenure                0.824986 -0.350320  \n",
       "InternetService      -0.181018 -0.048816  \n",
       "OnlineSecurity        0.260187 -0.289527  \n",
       "OnlineBackup          0.372687 -0.190995  \n",
       "DeviceProtection      0.389993 -0.173823  \n",
       "TechSupport           0.271952 -0.276051  \n",
       "StreamingTV           0.390019 -0.034443  \n",
       "StreamingMovies       0.402367 -0.038073  \n",
       "Contract              0.452464 -0.395152  \n",
       "PaperlessBilling      0.157089  0.198190  \n",
       "PaymentMethod        -0.338266  0.111066  \n",
       "MonthlyCharges        0.653813  0.191444  \n",
       "TotalCharges          1.000000 -0.198408  \n",
       "Churn                -0.198408  1.000000  "
      ]
     },
     "execution_count": 33,
     "metadata": {},
     "output_type": "execute_result"
    }
   ],
   "source": [
    "from sklearn.preprocessing import *\n",
    "from sklearn.preprocessing import MinMaxScaler\n",
    "def changeall(dff):\n",
    "    conf=[\"tenure\",\"TotalCharges\",\"MonthlyCharges\",\"customerID\",\"Churn\"]\n",
    "    cond=[co for co in dff.columns if co not in conf]\n",
    "    for it in cond:\n",
    "        le=LabelEncoder()\n",
    "        dff[it]=le.fit_transform(dff[it])\n",
    "    mms=MinMaxScaler()\n",
    "    x=list(dff.TotalCharges)\n",
    "    for i in range(len(x)):\n",
    "        if x[i]!=\" \":\n",
    "            x[i]=float(x[i])\n",
    "        else:\n",
    "            x[i]=0\n",
    "    for i in range(len(x)):\n",
    "        if x[i]==0:\n",
    "            x[i]=sum(x)/len(x)\n",
    "    dff.TotalCharges=x\n",
    "    mms=MinMaxScaler()\n",
    "    dff.loc[:,[\"MonthlyCharges\",\"TotalCharges\",\"tenure\"]]=mms.fit_transform(dff.loc[:,[\"MonthlyCharges\",\"TotalCharges\",\"tenure\"]])\n",
    "    return dff\n",
    "def onehot(dff):\n",
    "    onehcol=[\"PaymentMethod\",\"Contract\",\"InternetService\"]\n",
    "    for co in onehcol:\n",
    "        oneh=OneHotEncoder()\n",
    "        xx=oneh.fit_transform(np.array(dff[co]).reshape(-1,1)).toarray()\n",
    "        dffOneHot = pd.DataFrame(xx, columns = [co+str(int(i)) for i in range(xx.shape[1])])\n",
    "        dff = pd.concat([dff, dffOneHot], axis=1)\n",
    "    dff.drop(onehcol,inplace=True,axis=1)\n",
    "    return dff\n",
    "df=changeall(df)\n",
    "df.drop_duplicates(inplace=True)\n",
    "df.drop([\"Partner\",\"PhoneService\",\"MultipleLines\"],axis=1,inplace=True)\n",
    "df.corr()"
   ]
  },
  {
   "cell_type": "code",
   "execution_count": 34,
   "metadata": {},
   "outputs": [],
   "source": [
    "df=onehot(df)"
   ]
  },
  {
   "cell_type": "code",
   "execution_count": 35,
   "metadata": {},
   "outputs": [],
   "source": [
    "from sklearn.ensemble import *\n",
    "#df.drop([\"PhoneService\",\"gender\"],axis=1,inplace=True)\n",
    "df.drop([\"gender\"],axis=1,inplace=True)\n",
    "X=df.drop([\"Churn\",\"customerID\"],axis=1)\n",
    "y=df.Churn\n",
    "from sklearn.metrics import *\n",
    "from sklearn.model_selection import *\n",
    "Xtr,Xte,ytr,yte=train_test_split(X,y,test_size=0.25)"
   ]
  },
  {
   "cell_type": "code",
   "execution_count": 36,
   "metadata": {},
   "outputs": [
    {
     "name": "stdout",
     "output_type": "stream",
     "text": [
      "\n",
      "CLASSIFICATION REPORT\n",
      "               precision    recall  f1-score   support\n",
      "\n",
      "           0       0.92      0.83      0.87      1165\n",
      "           1       0.46      0.67      0.54       254\n",
      "\n",
      "   micro avg       0.80      0.80      0.80      1419\n",
      "   macro avg       0.69      0.75      0.71      1419\n",
      "weighted avg       0.84      0.80      0.81      1419\n",
      "\n",
      "ACCURACY SCORE 0.797744890768\n",
      "************************************************************************************************************************\n",
      "\n",
      "CLASSIFICATION REPORT\n",
      "               precision    recall  f1-score   support\n",
      "\n",
      "           0       0.90      0.84      0.87      1125\n",
      "           1       0.51      0.64      0.57       294\n",
      "\n",
      "   micro avg       0.80      0.80      0.80      1419\n",
      "   macro avg       0.70      0.74      0.72      1419\n",
      "weighted avg       0.82      0.80      0.81      1419\n",
      "\n",
      "ACCURACY SCORE 0.797744890768\n"
     ]
    },
    {
     "data": {
      "text/plain": [
       "array([[943, 182],\n",
       "       [105, 189]])"
      ]
     },
     "execution_count": 36,
     "metadata": {},
     "output_type": "execute_result"
    }
   ],
   "source": [
    "#DUMMMY MODEL\n",
    "clfsm=SVC()\n",
    "clfsm.fit(Xtr,ytr)\n",
    "pred=clfsm.predict(Xte)\n",
    "print(\"\\nCLASSIFICATION REPORT\\n\",classification_report(pred,yte))\n",
    "print(\"ACCURACY SCORE\",accuracy_score(pred,yte))\n",
    "print(\"*\"*120)\n",
    "clfsm=LogisticRegression()\n",
    "clfsm.fit(Xtr,ytr)\n",
    "pred=clfsm.predict(Xte)\n",
    "print(\"\\nCLASSIFICATION REPORT\\n\",classification_report(pred,yte))\n",
    "print(\"ACCURACY SCORE\",accuracy_score(pred,yte))\n",
    "confusion_matrix(pred,yte)"
   ]
  },
  {
   "cell_type": "code",
   "execution_count": 37,
   "metadata": {},
   "outputs": [
    {
     "name": "stdout",
     "output_type": "stream",
     "text": [
      "CONFUSION MATRIX\n",
      " [[906 144]\n",
      " [142 227]]\n",
      "\n",
      "CLASSIFICATION REPORT\n",
      "               precision    recall  f1-score   support\n",
      "\n",
      "           0       0.86      0.86      0.86      1050\n",
      "           1       0.61      0.62      0.61       369\n",
      "\n",
      "   micro avg       0.80      0.80      0.80      1419\n",
      "   macro avg       0.74      0.74      0.74      1419\n",
      "weighted avg       0.80      0.80      0.80      1419\n",
      "\n",
      "ACCURACY SCORE 0.798449612403\n"
     ]
    },
    {
     "data": {
      "image/png": "[encoded data removed]",
      "text/plain": [
       "<matplotlib.figure.Figure at 0x7f8a5f65acf8>"
      ]
     },
     "metadata": {
      "needs_background": "light"
     },
     "output_type": "display_data"
    }
   ],
   "source": [
    "from imblearn.over_sampling import SMOTE,ADASYN\n",
    "from sklearn.neighbors import KNeighborsClassifier\n",
    "from sklearn.tree import DecisionTreeClassifier\n",
    "sm=SMOTE(sampling_strategy=0.5)\n",
    "Xtrm,ytrm=sm.fit_sample(Xtr,ytr)\n",
    "clfsm=LogisticRegression()\n",
    "#clfsm=AdaBoostClassifier(base_estimator=rfc,n_estimators=500,learning_rate=0.001)\n",
    "clfsm.fit(Xtrm,ytrm)\n",
    "pred=clfsm.predict(Xte)\n",
    "print(\"CONFUSION MATRIX\\n\",confusion_matrix(pred,yte))\n",
    "print(\"\\nCLASSIFICATION REPORT\\n\",classification_report(pred,yte))\n",
    "print(\"ACCURACY SCORE\",accuracy_score(pred,yte))\n",
    "y_pred_decision = clfsm.decision_function(Xtr)\n",
    "precisions, recalls, thresholds = precision_recall_curve(ytr,y_pred_decision)\n",
    "#Precision-Recall Trade-off\n",
    "plt.plot(thresholds,precisions[:-1],label='Precision')\n",
    "plt.plot(thresholds,recalls[:-1],label='Recall')\n",
    "plt.xlabel(\"Decision Score\")\n",
    "plt.title('Precision Recall Trade Off')\n",
    "plt.legend()\n",
    "plt.xlim([-10,20])\n",
    "plt.show()"
   ]
  },
  {
   "cell_type": "code",
   "execution_count": 38,
   "metadata": {},
   "outputs": [
    {
     "name": "stdout",
     "output_type": "stream",
     "text": [
      "CONFUSION MATRIX\n",
      " [[1017  291]\n",
      " [  31   80]]\n",
      "\n",
      "CLASSIFICATION REPORT\n",
      "               precision    recall  f1-score   support\n",
      "\n",
      "           0       0.97      0.78      0.86      1308\n",
      "           1       0.22      0.72      0.33       111\n",
      "\n",
      "   micro avg       0.77      0.77      0.77      1419\n",
      "   macro avg       0.59      0.75      0.60      1419\n",
      "weighted avg       0.91      0.77      0.82      1419\n",
      "\n",
      "ACCURACY SCORE 0.773079633545\n"
     ]
    },
    {
     "data": {
      "image/png": "[encoded data removed]",
      "text/plain": [
       "<matplotlib.figure.Figure at 0x7f8a601dadd8>"
      ]
     },
     "metadata": {
      "needs_background": "light"
     },
     "output_type": "display_data"
    }
   ],
   "source": [
    "from imblearn.over_sampling import SMOTE,ADASYN\n",
    "from sklearn.neighbors import KNeighborsClassifier\n",
    "from sklearn.tree import DecisionTreeClassifier\n",
    "sm=SMOTE(sampling_strategy=0.5)\n",
    "Xtrm,ytrm=sm.fit_sample(Xtr,ytr)\n",
    "rfc=LogisticRegression()\n",
    "clfsm=AdaBoostClassifier(base_estimator=rfc,learning_rate=0.001)\n",
    "clfsm.fit(Xtrm,ytrm)\n",
    "pred=clfsm.predict(Xte)\n",
    "print(\"CONFUSION MATRIX\\n\",confusion_matrix(pred,yte))\n",
    "print(\"\\nCLASSIFICATION REPORT\\n\",classification_report(pred,yte))\n",
    "print(\"ACCURACY SCORE\",accuracy_score(pred,yte))\n",
    "y_pred_decision = clfsm.decision_function(Xtr)\n",
    "precisions, recalls, thresholds = precision_recall_curve(ytr,y_pred_decision)\n",
    "#Precision-Recall Trade-off\n",
    "plt.plot(thresholds,precisions[:-1],label='Precision')\n",
    "plt.plot(thresholds,recalls[:-1],label='Recall')\n",
    "plt.xlabel(\"Decision Score\")\n",
    "plt.title('Precision Recall Trade Off')\n",
    "plt.legend()\n",
    "plt.xlim([-10,20])\n",
    "plt.show()"
   ]
  },
  {
   "cell_type": "code",
   "execution_count": 39,
   "metadata": {},
   "outputs": [
    {
     "name": "stdout",
     "output_type": "stream",
     "text": [
      "CONFUSION MATRIX\n",
      " [[845 181]\n",
      " [203 190]]\n",
      "\n",
      "CLASSIFICATION REPORT\n",
      "               precision    recall  f1-score   support\n",
      "\n",
      "           0       0.81      0.82      0.81      1026\n",
      "           1       0.51      0.48      0.50       393\n",
      "\n",
      "   micro avg       0.73      0.73      0.73      1419\n",
      "   macro avg       0.66      0.65      0.66      1419\n",
      "weighted avg       0.72      0.73      0.73      1419\n",
      "\n",
      "ACCURACY SCORE 0.729386892178\n"
     ]
    }
   ],
   "source": [
    "from imblearn.over_sampling import SMOTE,ADASYN\n",
    "from sklearn.neighbors import KNeighborsClassifier\n",
    "from sklearn.tree import DecisionTreeClassifier\n",
    "sm=SMOTE(sampling_strategy=0.5)\n",
    "Xtrm,ytrm=sm.fit_sample(Xtr,ytr)\n",
    "rfc=DecisionTreeClassifier()\n",
    "clfsm=AdaBoostClassifier(base_estimator=rfc,n_estimators=500,learning_rate=0.0001)\n",
    "clfsm.fit(Xtrm,ytrm)\n",
    "pred=clfsm.predict(Xte)\n",
    "print(\"CONFUSION MATRIX\\n\",confusion_matrix(pred,yte))\n",
    "print(\"\\nCLASSIFICATION REPORT\\n\",classification_report(pred,yte))\n",
    "print(\"ACCURACY SCORE\",accuracy_score(pred,yte))"
   ]
  },
  {
   "cell_type": "code",
   "execution_count": 40,
   "metadata": {},
   "outputs": [
    {
     "name": "stdout",
     "output_type": "stream",
     "text": [
      "CONFUSION METRICS\n",
      " [[851 129]\n",
      " [197 242]]\n",
      "\n",
      "CLASSIFICATION REPORT\n",
      "               precision    recall  f1-score   support\n",
      "\n",
      "           0       0.81      0.87      0.84       980\n",
      "           1       0.65      0.55      0.60       439\n",
      "\n",
      "   micro avg       0.77      0.77      0.77      1419\n",
      "   macro avg       0.73      0.71      0.72      1419\n",
      "weighted avg       0.76      0.77      0.76      1419\n",
      "\n",
      "ACCURACY SCORE 0.770260747005\n"
     ]
    }
   ],
   "source": [
    "from imblearn.over_sampling import *\n",
    "from imblearn.under_sampling import *\n",
    "from sklearn.neural_network import MLPClassifier\n",
    "sm=SMOTE(sampling_strategy=0.6)\n",
    "Xtrm,ytrm=sm.fit_sample(Xtr,ytr)\n",
    "clfsm=MLPClassifier(hidden_layer_sizes=1000,early_stopping=True)\n",
    "clfsm.fit(Xtrm,ytrm)\n",
    "pred=clfsm.predict(Xte)\n",
    "print(\"CONFUSION METRICS\\n\",confusion_matrix(pred,yte))\n",
    "print(\"\\nCLASSIFICATION REPORT\\n\",classification_report(pred,yte))\n",
    "print(\"ACCURACY SCORE\",accuracy_score(pred,yte))"
   ]
  },
  {
   "cell_type": "code",
   "execution_count": 41,
   "metadata": {},
   "outputs": [
    {
     "name": "stdout",
     "output_type": "stream",
     "text": [
      "CONFUSION METRICS\n",
      " [[946 183]\n",
      " [102 188]]\n",
      "\n",
      "CLASSIFICATION REPORT\n",
      "               precision    recall  f1-score   support\n",
      "\n",
      "           0       0.90      0.84      0.87      1129\n",
      "           1       0.51      0.65      0.57       290\n",
      "\n",
      "   micro avg       0.80      0.80      0.80      1419\n",
      "   macro avg       0.70      0.74      0.72      1419\n",
      "weighted avg       0.82      0.80      0.81      1419\n",
      "\n",
      "ACCURACY SCORE 0.799154334038\n"
     ]
    },
    {
     "data": {
      "image/png": "[encoded data removed]",
      "text/plain": [
       "<matplotlib.figure.Figure at 0x7f8a6018d630>"
      ]
     },
     "metadata": {
      "needs_background": "light"
     },
     "output_type": "display_data"
    }
   ],
   "source": [
    "sm=SMOTE(sampling_strategy=0.4)\n",
    "Xtrm,ytrm=sm.fit_sample(Xtr,ytr)\n",
    "clfsm=SVC()\n",
    "clfsm.fit(Xtrm,ytrm)\n",
    "pred=clfsm.predict(Xte)\n",
    "print(\"CONFUSION METRICS\\n\",confusion_matrix(pred,yte))\n",
    "print(\"\\nCLASSIFICATION REPORT\\n\",classification_report(pred,yte))\n",
    "print(\"ACCURACY SCORE\",accuracy_score(pred,yte))\n",
    "y_pred_decision = clfsm.decision_function(Xtr)\n",
    "precisions, recalls, thresholds = precision_recall_curve(ytr,y_pred_decision)\n",
    "#Precision-Recall Trade-off\n",
    "plt.plot(thresholds,precisions[:-1],label='Precision')\n",
    "plt.plot(thresholds,recalls[:-1],label='Recall')\n",
    "plt.xlabel(\"Decision Score\")\n",
    "plt.title('Precision Recall Trade Off')\n",
    "plt.legend()\n",
    "plt.xlim([-10,20])\n",
    "plt.show()"
   ]
  },
  {
   "cell_type": "code",
   "execution_count": 42,
   "metadata": {},
   "outputs": [
    {
     "name": "stdout",
     "output_type": "stream",
     "text": [
      "CONFUSION METRICS\n",
      " [[935 189]\n",
      " [113 182]]\n",
      "\n",
      "CLASSIFICATION REPORT\n",
      "               precision    recall  f1-score   support\n",
      "\n",
      "           0       0.89      0.83      0.86      1124\n",
      "           1       0.49      0.62      0.55       295\n",
      "\n",
      "   micro avg       0.79      0.79      0.79      1419\n",
      "   macro avg       0.69      0.72      0.70      1419\n",
      "weighted avg       0.81      0.79      0.80      1419\n",
      "\n",
      "ACCURACY SCORE 0.787174066244\n"
     ]
    }
   ],
   "source": [
    "clfsm=RandomForestClassifier(n_estimators=400)\n",
    "clfsm.fit(Xtrm,ytrm)\n",
    "pred=clfsm.predict(Xte)\n",
    "print(\"CONFUSION METRICS\\n\",confusion_matrix(pred,yte))\n",
    "print(\"\\nCLASSIFICATION REPORT\\n\",classification_report(pred,yte))\n",
    "print(\"ACCURACY SCORE\",accuracy_score(pred,yte))"
   ]
  },
  {
   "cell_type": "code",
   "execution_count": 43,
   "metadata": {},
   "outputs": [
    {
     "name": "stdout",
     "output_type": "stream",
     "text": [
      "CONFUSION MATRIX\n",
      " [[842 154]\n",
      " [206 217]]\n",
      "\n",
      "CLASSIFICATION REPORT\n",
      "               precision    recall  f1-score   support\n",
      "\n",
      "           0       0.80      0.85      0.82       996\n",
      "           1       0.58      0.51      0.55       423\n",
      "\n",
      "   micro avg       0.75      0.75      0.75      1419\n",
      "   macro avg       0.69      0.68      0.69      1419\n",
      "weighted avg       0.74      0.75      0.74      1419\n",
      "\n",
      "ACCURACY SCORE 0.746300211416\n"
     ]
    }
   ],
   "source": [
    "sm=SMOTE(sampling_strategy=0.5)\n",
    "Xtrm,ytrm=sm.fit_sample(Xtr,ytr)\n",
    "clfsm=KNeighborsClassifier()\n",
    "clfsm.fit(Xtrm,ytrm)\n",
    "pred=clfsm.predict(Xte)\n",
    "print(\"CONFUSION MATRIX\\n\",confusion_matrix(pred,yte))\n",
    "print(\"\\nCLASSIFICATION REPORT\\n\",classification_report(pred,yte))\n",
    "print(\"ACCURACY SCORE\",accuracy_score(pred,yte))"
   ]
  },
  {
   "cell_type": "code",
   "execution_count": 44,
   "metadata": {},
   "outputs": [
    {
     "name": "stdout",
     "output_type": "stream",
     "text": [
      "CONFUSION MATRIX\n",
      " [[912 146]\n",
      " [136 225]]\n",
      "\n",
      "CLASSIFICATION REPORT\n",
      "               precision    recall  f1-score   support\n",
      "\n",
      "           0       0.87      0.86      0.87      1058\n",
      "           1       0.61      0.62      0.61       361\n",
      "\n",
      "   micro avg       0.80      0.80      0.80      1419\n",
      "   macro avg       0.74      0.74      0.74      1419\n",
      "weighted avg       0.80      0.80      0.80      1419\n",
      "\n",
      "ACCURACY SCORE 0.801268498943\n"
     ]
    },
    {
     "data": {
      "image/png": "[encoded data removed]",
      "text/plain": [
       "<matplotlib.figure.Figure at 0x7f8a5f587828>"
      ]
     },
     "metadata": {
      "needs_background": "light"
     },
     "output_type": "display_data"
    }
   ],
   "source": [
    "sm=SMOTE(sampling_strategy=0.65)\n",
    "Xtrm,ytrm=sm.fit_sample(Xtr,ytr)\n",
    "clfsm=GradientBoostingClassifier(learning_rate=0.01)\n",
    "clfsm.fit(Xtrm,ytrm)\n",
    "pred=clfsm.predict(Xte)\n",
    "print(\"CONFUSION MATRIX\\n\",confusion_matrix(pred,yte))\n",
    "print(\"\\nCLASSIFICATION REPORT\\n\",classification_report(pred,yte))\n",
    "print(\"ACCURACY SCORE\",accuracy_score(pred,yte))\n",
    "y_pred_decision = clfsm.decision_function(Xtr)\n",
    "precisions, recalls, thresholds = precision_recall_curve(ytr,y_pred_decision)\n",
    "#Precision-Recall Trade-off\n",
    "plt.plot(thresholds,precisions[:-1],label='Precision')\n",
    "plt.plot(thresholds,recalls[:-1],label='Recall')\n",
    "plt.xlabel(\"Decision Score\")\n",
    "plt.title('Precision Recall Trade Off')\n",
    "plt.legend()\n",
    "plt.xlim([-10,20])\n",
    "plt.show()"
   ]
  },
  {
   "cell_type": "code",
   "execution_count": 45,
   "metadata": {},
   "outputs": [
    {
     "name": "stdout",
     "output_type": "stream",
     "text": [
      "CONFUSION MATRIX\n",
      " [[912 147]\n",
      " [136 224]]\n",
      "\n",
      "CLASSIFICATION REPORT\n",
      "               precision    recall  f1-score   support\n",
      "\n",
      "           0       0.87      0.86      0.87      1059\n",
      "           1       0.60      0.62      0.61       360\n",
      "\n",
      "   micro avg       0.80      0.80      0.80      1419\n",
      "   macro avg       0.74      0.74      0.74      1419\n",
      "weighted avg       0.80      0.80      0.80      1419\n",
      "\n",
      "ACCURACY SCORE 0.800563777308\n"
     ]
    },
    {
     "data": {
      "image/png": "[encoded data removed]",
      "text/plain": [
       "<matplotlib.figure.Figure at 0x7f8a5f542b70>"
      ]
     },
     "metadata": {
      "needs_background": "light"
     },
     "output_type": "display_data"
    }
   ],
   "source": [
    "sm=SMOTE(sampling_strategy=0.5)\n",
    "Xtrm,ytrm=sm.fit_sample(Xtr,ytr)\n",
    "clfsm=AdaBoostClassifier()\n",
    "clfsm.fit(Xtrm,ytrm)\n",
    "pred=clfsm.predict(Xte)\n",
    "print(\"CONFUSION MATRIX\\n\",confusion_matrix(pred,yte))\n",
    "print(\"\\nCLASSIFICATION REPORT\\n\",classification_report(pred,yte))\n",
    "print(\"ACCURACY SCORE\",accuracy_score(pred,yte))\n",
    "y_pred_decision = clfsm.decision_function(Xtr)\n",
    "precisions, recalls, thresholds = precision_recall_curve(ytr,y_pred_decision)\n",
    "#Precision-Recall Trade-off\n",
    "plt.plot(thresholds,precisions[:-1],label='Precision')\n",
    "plt.plot(thresholds,recalls[:-1],label='Recall')\n",
    "plt.xlabel(\"Decision Score\")\n",
    "plt.title('Precision Recall Trade Off')\n",
    "plt.legend()\n",
    "plt.xlim([-10,20])\n",
    "plt.show()"
   ]
  },
  {
   "cell_type": "code",
   "execution_count": null,
   "metadata": {},
   "outputs": [],
   "source": []
  },
  {
   "cell_type": "code",
   "execution_count": 46,
   "metadata": {},
   "outputs": [],
   "source": [
    "test=pd.read_csv(\"churnte.csv\")\n",
    "test.drop([\"gender\"],axis=1,inplace=True)\n",
    "test.drop([\"Partner\",\"PhoneService\",\"MultipleLines\"],axis=1,inplace=True)\n",
    "test=changeall(test)\n",
    "test=onehot(test)\n",
    "clfsm.fit(X,y)\n",
    "pred=clfsm.predict(test.drop(\"customerID\",axis=1))\n",
    "test[\"Churn\"]=pred\n",
    "data=test.loc[:,[\"customerID\",\"Churn\"]]\n",
    "data.columns=[\"Id\",\"Churn\"]\n",
    "data.to_csv(\"sub.csv\",index=None)"
   ]
  },
  {
   "cell_type": "code",
   "execution_count": null,
   "metadata": {},
   "outputs": [],
   "source": []
  },
  {
   "cell_type": "code",
   "execution_count": null,
   "metadata": {},
   "outputs": [],
   "source": []
  },
  {
   "cell_type": "code",
   "execution_count": null,
   "metadata": {},
   "outputs": [],
   "source": []
  },
  {
   "cell_type": "code",
   "execution_count": null,
   "metadata": {},
   "outputs": [],
   "source": []
  }
 ],
 "metadata": {
  "kernelspec": {
   "display_name": "Python 3",
   "language": "python",
   "name": "python3"
  },
  "language_info": {
   "codemirror_mode": {
    "name": "ipython",
    "version": 3
   },
   "file_extension": ".py",
   "mimetype": "text/x-python",
   "name": "python",
   "nbconvert_exporter": "python",
   "pygments_lexer": "ipython3",
   "version": "3.6.7"
  }
 },
 "nbformat": 4,
 "nbformat_minor": 2
}
